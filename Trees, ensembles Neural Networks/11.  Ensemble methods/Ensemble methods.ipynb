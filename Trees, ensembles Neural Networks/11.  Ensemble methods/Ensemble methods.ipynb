{
 "cells": [
  {
   "cell_type": "markdown",
   "metadata": {},
   "source": [
    "<figure><IMG SRC=\"https://www.bluemetrica.com/wp-content/uploads/2017/09/bluemetrica_vector_small.svg\n",
    "\" WIDTH=325 ALIGN=\"right\">\n",
    "</figure>\n",
    "    \n",
    "# ensemble methods - many weak trees\n",
    "\n",
    "- Random forest\n",
    "- Gradient Boosting\n",
    "- Xtreme gradient boosting XGBoost\n",
    "\n",
    "### Random Forest\n",
    "\n",
    "\n",
    "#### Random forest  - classification problem\n",
    "![](https://static.javatpoint.com/tutorial/machine-learning/images/random-forest-algorithm2.png)\n",
    "#### Random forest regression problem\n",
    "\n",
    "![source: https://www.kdnuggets.com/wp-content/uploads/rand-forest-2.jpg](https://www.kdnuggets.com/wp-content/uploads/rand-forest-2.jpg)\n",
    "*source: https://www.kdnuggets.com/wp-content/uploads/rand-forest-2.jpg*\n",
    "\n",
    "### Gradient Boosting and XGBoost\n",
    "\n",
    "\n",
    "![](https://srdas.github.io/DLBook/DL_images/TNN2.png)\n",
    "*source: https://srdas.github.io/DLBook/DL_images/TNN2.png*\n",
    "\n",
    "#### XGBoost\n",
    "![](https://www.researchgate.net/publication/345327934/figure/fig3/AS:1022810793209856@1620868504478/Flow-chart-of-XGBoost.png)\n",
    "\n",
    "XGBoost: https://xgboost.readthedocs.io/en/latest/tutorials/model.html"
   ]
  },
  {
   "cell_type": "code",
   "execution_count": 1,
   "metadata": {},
   "outputs": [],
   "source": [
    "\n",
    "import numpy as np      \n",
    "import pandas as pd       \n",
    "import matplotlib.pyplot as plt \n",
    "import seaborn as sns \n",
    "%matplotlib inline"
   ]
  },
  {
   "cell_type": "markdown",
   "metadata": {},
   "source": [
    "### Data Import and preprocessing"
   ]
  },
  {
   "cell_type": "code",
   "execution_count": 1,
   "metadata": {},
   "outputs": [
    {
     "name": "stderr",
     "output_type": "stream",
     "text": [
      "C:\\Users\\paperspace\\anaconda3\\lib\\site-packages\\sklearn\\utils\\deprecation.py:87: FutureWarning: Function get_feature_names is deprecated; get_feature_names is deprecated in 1.0 and will be removed in 1.2. Please use get_feature_names_out instead.\n",
      "  warnings.warn(msg, category=FutureWarning)\n"
     ]
    }
   ],
   "source": [
    "# %load \"g:/My Drive/diamonds_preproc.py\"\n",
    "import numpy as np        \n",
    "import pandas as pd       \n",
    "import matplotlib.pyplot as plt\n",
    "import seaborn as sns \n",
    "df = pd.read_csv(\"../../data/diamonds.csv\")\n",
    "df.drop(columns= \"Unnamed: 0\",inplace = True)\n",
    "\n",
    "# Train/test split\n",
    "\n",
    "from sklearn.model_selection import train_test_split\n",
    "X = df.drop(columns = \"price\")\n",
    "y = df.price\n",
    "\n",
    "X_train, X_test, y_train, y_test = train_test_split(X, y, test_size=.3, random_state=42)\n",
    "\n",
    "from sklearn.preprocessing import StandardScaler, RobustScaler, FunctionTransformer, OneHotEncoder\n",
    "from sklearn.compose import ColumnTransformer\n",
    "from sklearn.pipeline import Pipeline\n",
    "\n",
    "# 1. select labels of features for one hot encoding and standarization\n",
    "num_labels = X_train.select_dtypes(\"number\").columns\n",
    "cat_labels = X_train.select_dtypes(\"object\").columns\n",
    "\n",
    "# 2. define preprocessor for each type of data\n",
    "cat_preprocessor = OneHotEncoder(drop = \"if_binary\")\n",
    "num_preprocessor = FunctionTransformer()\n",
    "\n",
    "# 3. Combine it all together\n",
    "preprocessor = ColumnTransformer([(\"cat\", cat_preprocessor, cat_labels),\n",
    "                                 (\"num\", num_preprocessor, num_labels)])\n",
    "\n",
    "# Relevant to construct labels for all features\n",
    "preprocessor.fit(X_train)\n",
    "\n",
    "feature_labels = preprocessor.transformers_[0][1].get_feature_names(cat_labels).tolist()\n",
    "feature_labels.extend(num_labels)\n",
    "\n",
    "from sklearn.metrics import mean_squared_error\n",
    "\n",
    "#Train/test split\n",
    "\n",
    "from sklearn.model_selection import train_test_split\n",
    "x = df.drop(columns = \"price\")\n",
    "y = df.price\n",
    "\n",
    "x_train, x_test, y_train, y_test = train_test_split(x,y, test_size = 0.3, random_state = 42)\n",
    "\n",
    "\n"
   ]
  },
  {
   "cell_type": "code",
   "execution_count": null,
   "metadata": {},
   "outputs": [],
   "source": []
  },
  {
   "cell_type": "code",
   "execution_count": null,
   "metadata": {},
   "outputs": [],
   "source": []
  },
  {
   "cell_type": "markdown",
   "metadata": {},
   "source": [
    "### Random Forest"
   ]
  },
  {
   "cell_type": "code",
   "execution_count": null,
   "metadata": {},
   "outputs": [],
   "source": []
  },
  {
   "cell_type": "code",
   "execution_count": null,
   "metadata": {},
   "outputs": [],
   "source": []
  },
  {
   "cell_type": "code",
   "execution_count": null,
   "metadata": {},
   "outputs": [],
   "source": []
  },
  {
   "cell_type": "markdown",
   "metadata": {},
   "source": [
    "## XGBoost\n"
   ]
  },
  {
   "cell_type": "code",
   "execution_count": null,
   "metadata": {},
   "outputs": [],
   "source": []
  },
  {
   "cell_type": "code",
   "execution_count": null,
   "metadata": {},
   "outputs": [],
   "source": []
  },
  {
   "cell_type": "code",
   "execution_count": null,
   "metadata": {},
   "outputs": [],
   "source": []
  },
  {
   "cell_type": "code",
   "execution_count": null,
   "metadata": {},
   "outputs": [],
   "source": []
  },
  {
   "cell_type": "code",
   "execution_count": null,
   "metadata": {},
   "outputs": [],
   "source": []
  }
 ],
 "metadata": {
  "kernelspec": {
   "display_name": "Python 3 (ipykernel)",
   "language": "python",
   "name": "python3"
  },
  "language_info": {
   "codemirror_mode": {
    "name": "ipython",
    "version": 3
   },
   "file_extension": ".py",
   "mimetype": "text/x-python",
   "name": "python",
   "nbconvert_exporter": "python",
   "pygments_lexer": "ipython3",
   "version": "3.11.4"
  }
 },
 "nbformat": 4,
 "nbformat_minor": 2
}
