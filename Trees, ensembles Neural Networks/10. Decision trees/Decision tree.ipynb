{
 "cells": [
  {
   "cell_type": "markdown",
   "metadata": {},
   "source": [
    "<figure><IMG SRC=\"https://www.bluemetrica.com/wp-content/uploads/2017/09/bluemetrica_vector_small.svg\n",
    "\" WIDTH=325 ALIGN=\"right\">\n",
    "</figure>\n",
    "    \n",
    "# Decision tree    "
   ]
  },
  {
   "cell_type": "code",
   "execution_count": 1,
   "metadata": {},
   "outputs": [],
   "source": [
    "\n",
    "import numpy as np      \n",
    "import pandas as pd        \n",
    "import matplotlib.pyplot as plt \n",
    "import seaborn as sns "
   ]
  },
  {
   "cell_type": "markdown",
   "metadata": {},
   "source": [
    "### Import and preprocess data"
   ]
  },
  {
   "cell_type": "code",
   "execution_count": 2,
   "metadata": {},
   "outputs": [
    {
     "name": "stderr",
     "output_type": "stream",
     "text": [
      "C:\\Users\\Tomek\\anaconda3\\lib\\site-packages\\sklearn\\utils\\deprecation.py:87: FutureWarning: Function get_feature_names is deprecated; get_feature_names is deprecated in 1.0 and will be removed in 1.2. Please use get_feature_names_out instead.\n",
      "  warnings.warn(msg, category=FutureWarning)\n"
     ]
    }
   ],
   "source": [
    "# %load \"g:My Drive/diamonds_preproc.py\"\n",
    "import numpy as np        \n",
    "import pandas as pd       \n",
    "import matplotlib.pyplot as plt\n",
    "import seaborn as sns \n",
    "df = pd.read_csv(\"../data/diamonds.csv\")\n",
    "df.drop(columns= \"Unnamed: 0\",inplace = True)\n",
    "\n",
    "# Train/test split\n",
    "\n",
    "from sklearn.model_selection import train_test_split\n",
    "X = df.drop(columns = \"price\")\n",
    "y = df.price\n",
    "\n",
    "X_train, X_test, y_train, y_test = train_test_split(X, y, test_size=.3, random_state=42)\n",
    "\n",
    "from sklearn.preprocessing import StandardScaler, RobustScaler, FunctionTransformer, OneHotEncoder\n",
    "from sklearn.compose import ColumnTransformer\n",
    "from sklearn.pipeline import Pipeline\n",
    "\n",
    "# 1. select labels of features for one hot encoding and standarization\n",
    "num_labels = X_train.select_dtypes(\"number\").columns\n",
    "cat_labels = X_train.select_dtypes(\"object\").columns\n",
    "\n",
    "# 2. define preprocessor for each type of data\n",
    "cat_preprocessor = OneHotEncoder(drop = \"if_binary\")\n",
    "num_preprocessor = FunctionTransformer()\n",
    "\n",
    "# 3. Combine it all together\n",
    "preprocessor = ColumnTransformer([(\"cat\", cat_preprocessor, cat_labels),\n",
    "                                 (\"num\", num_preprocessor, num_labels)])\n",
    "\n",
    "# Relevant to construct labels for all features\n",
    "preprocessor.fit(X_train)\n",
    "\n",
    "feature_labels = preprocessor.transformers_[0][1].get_feature_names(cat_labels).tolist()\n",
    "feature_labels.extend(num_labels)\n",
    "\n",
    "from sklearn.metrics import mean_squared_error\n",
    "\n",
    "#Train/test split\n",
    "\n",
    "from sklearn.model_selection import train_test_split\n",
    "x = df.drop(columns = \"price\")\n",
    "y = df.price\n",
    "\n",
    "x_train, x_test, y_train, y_test = train_test_split(x,y, test_size = 0.3, random_state = 42)\n",
    "\n",
    "\n"
   ]
  },
  {
   "cell_type": "code",
   "execution_count": null,
   "metadata": {},
   "outputs": [],
   "source": []
  },
  {
   "cell_type": "code",
   "execution_count": null,
   "metadata": {},
   "outputs": [],
   "source": []
  },
  {
   "cell_type": "markdown",
   "metadata": {},
   "source": [
    "### Regression trees"
   ]
  },
  {
   "cell_type": "code",
   "execution_count": 3,
   "metadata": {},
   "outputs": [],
   "source": [
    "from sklearn.tree import DecisionTreeRegressor"
   ]
  },
  {
   "cell_type": "code",
   "execution_count": 4,
   "metadata": {},
   "outputs": [
    {
     "data": {
      "text/plain": [
       "Pipeline(steps=[('preproc',\n",
       "                 ColumnTransformer(transformers=[('cat',\n",
       "                                                  OneHotEncoder(drop='if_binary'),\n",
       "                                                  Index(['cut', 'color', 'clarity'], dtype='object')),\n",
       "                                                 ('num', FunctionTransformer(),\n",
       "                                                  Index(['carat', 'depth', 'table', 'x', 'y', 'z'], dtype='object'))])),\n",
       "                ('tree', DecisionTreeRegressor())])"
      ]
     },
     "execution_count": 4,
     "metadata": {},
     "output_type": "execute_result"
    }
   ],
   "source": [
    "dt = DecisionTreeRegressor()\n",
    "\n",
    "dt_pipe = Pipeline([\n",
    "    (\"preproc\", preprocessor),\n",
    "    (\"tree\", dt)\n",
    "])\n",
    "dt_pipe.fit(X_train,y_train)"
   ]
  },
  {
   "cell_type": "code",
   "execution_count": 5,
   "metadata": {},
   "outputs": [
    {
     "data": {
      "text/plain": [
       "9.084389916539722"
      ]
     },
     "execution_count": 5,
     "metadata": {},
     "output_type": "execute_result"
    }
   ],
   "source": [
    "y_train_pred = dt_pipe.predict(X_train)\n",
    "mean_squared_error(y_train,y_train_pred,squared=False)"
   ]
  },
  {
   "cell_type": "code",
   "execution_count": 6,
   "metadata": {},
   "outputs": [
    {
     "data": {
      "text/plain": [
       "749.8777850305928"
      ]
     },
     "execution_count": 6,
     "metadata": {},
     "output_type": "execute_result"
    }
   ],
   "source": [
    "y_test_pred = dt_pipe.predict(X_test)\n",
    "mean_squared_error(y_test,y_test_pred,squared=False)"
   ]
  },
  {
   "cell_type": "code",
   "execution_count": 7,
   "metadata": {},
   "outputs": [
    {
     "data": {
      "text/plain": [
       "36"
      ]
     },
     "execution_count": 7,
     "metadata": {},
     "output_type": "execute_result"
    }
   ],
   "source": [
    "dt.get_depth()"
   ]
  },
  {
   "cell_type": "markdown",
   "metadata": {},
   "source": [
    "#### Summary \n",
    "* overfitted model\n"
   ]
  },
  {
   "cell_type": "markdown",
   "metadata": {},
   "source": [
    "### Tree visualization"
   ]
  },
  {
   "cell_type": "code",
   "execution_count": 42,
   "metadata": {},
   "outputs": [],
   "source": [
    "from sklearn.tree import export_graphviz\n",
    "export_graphviz(dt,\"tree.dot\",feature_names=feature_labels)\n"
   ]
  },
  {
   "cell_type": "markdown",
   "metadata": {},
   "source": [
    "!pip install graphviz"
   ]
  },
  {
   "cell_type": "code",
   "execution_count": 43,
   "metadata": {},
   "outputs": [
    {
     "name": "stderr",
     "output_type": "stream",
     "text": [
      "dot: graph is too large for cairo-renderer bitmaps. Scaling by 0.0796969 to fit\n"
     ]
    }
   ],
   "source": [
    "!dot -Tpng tree.dot -o tree.png"
   ]
  },
  {
   "cell_type": "code",
   "execution_count": 10,
   "metadata": {},
   "outputs": [
    {
     "data": {
      "text/plain": [
       "3951.495312251708"
      ]
     },
     "execution_count": 10,
     "metadata": {},
     "output_type": "execute_result"
    }
   ],
   "source": [
    "y_train.mean()"
   ]
  },
  {
   "cell_type": "markdown",
   "metadata": {},
   "source": [
    "### Tuning"
   ]
  },
  {
   "cell_type": "code",
   "execution_count": 15,
   "metadata": {},
   "outputs": [
    {
     "data": {
      "text/plain": [
       "4"
      ]
     },
     "execution_count": 15,
     "metadata": {},
     "output_type": "execute_result"
    }
   ],
   "source": [
    "import os\n",
    "os.cpu_count()"
   ]
  },
  {
   "cell_type": "code",
   "execution_count": 24,
   "metadata": {
    "collapsed": true
   },
   "outputs": [
    {
     "data": {
      "text/plain": [
       "GridSearchCV(cv=KFold(n_splits=5, random_state=42, shuffle=True),\n",
       "             estimator=Pipeline(steps=[('preproc',\n",
       "                                        ColumnTransformer(transformers=[('cat',\n",
       "                                                                         OneHotEncoder(drop='if_binary'),\n",
       "                                                                         Index(['cut', 'color', 'clarity'], dtype='object')),\n",
       "                                                                        ('num',\n",
       "                                                                         FunctionTransformer(),\n",
       "                                                                         Index(['carat', 'depth', 'table', 'x', 'y', 'z'], dtype='object'))])),\n",
       "                                       ('tree',\n",
       "                                        DecisionTreeRegressor(random_state=42))]),\n",
       "             n_jobs=2,\n",
       "             param_grid={'tree__max_depth': array([ 6,  7,  8,  9, 10, 11, 12, 13, 14, 15, 16, 17])},\n",
       "             scoring='neg_mean_squared_error')"
      ]
     },
     "execution_count": 24,
     "metadata": {},
     "output_type": "execute_result"
    }
   ],
   "source": [
    "# Use of Pipeling prevents overfitting during cross validation\n",
    "from sklearn.model_selection import GridSearchCV, KFold\n",
    "\n",
    "dt = DecisionTreeRegressor(random_state=42)\n",
    "\n",
    "dt_pipe = Pipeline([\n",
    "    (\"preproc\", preprocessor),\n",
    "    (\"tree\", dt)\n",
    "])\n",
    "\n",
    "hyper_params = {\"tree__max_depth\": np.arange(6,18)}\n",
    "\n",
    "kfold = KFold(n_splits=5,\n",
    "             shuffle=True,\n",
    "             random_state=42)\n",
    "\n",
    "grid = GridSearchCV(estimator=dt_pipe,\n",
    "                   param_grid=hyper_params,\n",
    "                    scoring = \"neg_mean_squared_error\",\n",
    "                    cv = kfold,\n",
    "                    n_jobs = 2)\n",
    "\n",
    "grid.fit(X_train,y_train)                    \n"
   ]
  },
  {
   "cell_type": "code",
   "execution_count": 26,
   "metadata": {},
   "outputs": [
    {
     "data": {
      "text/plain": [
       "Pipeline(steps=[('preproc',\n",
       "                 ColumnTransformer(transformers=[('cat',\n",
       "                                                  OneHotEncoder(drop='if_binary'),\n",
       "                                                  Index(['cut', 'color', 'clarity'], dtype='object')),\n",
       "                                                 ('num', FunctionTransformer(),\n",
       "                                                  Index(['carat', 'depth', 'table', 'x', 'y', 'z'], dtype='object'))])),\n",
       "                ('tree', DecisionTreeRegressor(max_depth=13, random_state=42))])"
      ]
     },
     "execution_count": 26,
     "metadata": {},
     "output_type": "execute_result"
    }
   ],
   "source": [
    "grid.best_estimator_"
   ]
  },
  {
   "cell_type": "code",
   "execution_count": 27,
   "metadata": {},
   "outputs": [
    {
     "data": {
      "text/plain": [
       "{'tree__max_depth': 13}"
      ]
     },
     "execution_count": 27,
     "metadata": {},
     "output_type": "execute_result"
    }
   ],
   "source": [
    "grid.best_params_"
   ]
  },
  {
   "cell_type": "code",
   "execution_count": 30,
   "metadata": {},
   "outputs": [
    {
     "data": {
      "text/plain": [
       "466.1329532344556"
      ]
     },
     "execution_count": 30,
     "metadata": {},
     "output_type": "execute_result"
    }
   ],
   "source": [
    "y_train_pred = grid.predict(X_train)\n",
    "mean_squared_error(y_train,y_train_pred,squared=False)"
   ]
  },
  {
   "cell_type": "code",
   "execution_count": 31,
   "metadata": {},
   "outputs": [
    {
     "data": {
      "text/plain": [
       "662.1831583404137"
      ]
     },
     "execution_count": 31,
     "metadata": {},
     "output_type": "execute_result"
    }
   ],
   "source": [
    "y_test_pred = grid.predict(X_test)\n",
    "mean_squared_error(y_test,y_test_pred,squared=False)"
   ]
  },
  {
   "cell_type": "markdown",
   "metadata": {},
   "source": [
    "#### Summary\n",
    "* dealing with model overfitting reduces test error even further"
   ]
  },
  {
   "cell_type": "markdown",
   "metadata": {},
   "source": [
    "### Feature importance"
   ]
  },
  {
   "cell_type": "code",
   "execution_count": 49,
   "metadata": {},
   "outputs": [
    {
     "data": {
      "text/plain": [
       "1.0"
      ]
     },
     "execution_count": 49,
     "metadata": {},
     "output_type": "execute_result"
    }
   ],
   "source": [
    "dt_tuned = grid.best_estimator_[-1]\n",
    "importances = dt_tuned.feature_importances_\n"
   ]
  },
  {
   "cell_type": "code",
   "execution_count": 51,
   "metadata": {},
   "outputs": [],
   "source": [
    "df_importance = pd.DataFrame(importances, columns= [\"importance\"])\n",
    "df_importance[\"features\"] = feature_labels\n",
    "df_importance.sort_values(\"importance\", ascending=False,inplace=True)"
   ]
  },
  {
   "cell_type": "code",
   "execution_count": 54,
   "metadata": {},
   "outputs": [
    {
     "data": {
      "text/plain": [
       "<AxesSubplot:xlabel='importance', ylabel='features'>"
      ]
     },
     "execution_count": 54,
     "metadata": {},
     "output_type": "execute_result"
    },
    {
     "data": {
      "image/png": "[encoded data removed]",
      "text/plain": [
       "<Figure size 432x288 with 1 Axes>"
      ]
     },
     "metadata": {
      "needs_background": "light"
     },
     "output_type": "display_data"
    }
   ],
   "source": [
    "sns.barplot(x = \"importance\", y= \"features\", data = df_importance)"
   ]
  },
  {
   "cell_type": "code",
   "execution_count": 56,
   "metadata": {
    "collapsed": true
   },
   "outputs": [
    {
     "data": {
      "text/html": [
       "<div>\n",
       "<style scoped>\n",
       "    .dataframe tbody tr th:only-of-type {\n",
       "        vertical-align: middle;\n",
       "    }\n",
       "\n",
       "    .dataframe tbody tr th {\n",
       "        vertical-align: top;\n",
       "    }\n",
       "\n",
       "    .dataframe thead th {\n",
       "        text-align: right;\n",
       "    }\n",
       "</style>\n",
       "<table border=\"1\" class=\"dataframe\">\n",
       "  <thead>\n",
       "    <tr style=\"text-align: right;\">\n",
       "      <th></th>\n",
       "      <th>carat</th>\n",
       "      <th>depth</th>\n",
       "      <th>table</th>\n",
       "      <th>x</th>\n",
       "      <th>y</th>\n",
       "      <th>z</th>\n",
       "    </tr>\n",
       "  </thead>\n",
       "  <tbody>\n",
       "    <tr>\n",
       "      <th>carat</th>\n",
       "      <td>1.000000</td>\n",
       "      <td>0.032347</td>\n",
       "      <td>0.191737</td>\n",
       "      <td>0.996177</td>\n",
       "      <td>0.995587</td>\n",
       "      <td>0.992984</td>\n",
       "    </tr>\n",
       "    <tr>\n",
       "      <th>depth</th>\n",
       "      <td>0.032347</td>\n",
       "      <td>1.000000</td>\n",
       "      <td>-0.246866</td>\n",
       "      <td>-0.021041</td>\n",
       "      <td>-0.023261</td>\n",
       "      <td>0.105538</td>\n",
       "    </tr>\n",
       "    <tr>\n",
       "      <th>table</th>\n",
       "      <td>0.191737</td>\n",
       "      <td>-0.246866</td>\n",
       "      <td>1.000000</td>\n",
       "      <td>0.199331</td>\n",
       "      <td>0.193248</td>\n",
       "      <td>0.156810</td>\n",
       "    </tr>\n",
       "    <tr>\n",
       "      <th>x</th>\n",
       "      <td>0.996177</td>\n",
       "      <td>-0.021041</td>\n",
       "      <td>0.199331</td>\n",
       "      <td>1.000000</td>\n",
       "      <td>0.997913</td>\n",
       "      <td>0.987241</td>\n",
       "    </tr>\n",
       "    <tr>\n",
       "      <th>y</th>\n",
       "      <td>0.995587</td>\n",
       "      <td>-0.023261</td>\n",
       "      <td>0.193248</td>\n",
       "      <td>0.997913</td>\n",
       "      <td>1.000000</td>\n",
       "      <td>0.986802</td>\n",
       "    </tr>\n",
       "    <tr>\n",
       "      <th>z</th>\n",
       "      <td>0.992984</td>\n",
       "      <td>0.105538</td>\n",
       "      <td>0.156810</td>\n",
       "      <td>0.987241</td>\n",
       "      <td>0.986802</td>\n",
       "      <td>1.000000</td>\n",
       "    </tr>\n",
       "  </tbody>\n",
       "</table>\n",
       "</div>"
      ],
      "text/plain": [
       "          carat     depth     table         x         y         z\n",
       "carat  1.000000  0.032347  0.191737  0.996177  0.995587  0.992984\n",
       "depth  0.032347  1.000000 -0.246866 -0.021041 -0.023261  0.105538\n",
       "table  0.191737 -0.246866  1.000000  0.199331  0.193248  0.156810\n",
       "x      0.996177 -0.021041  0.199331  1.000000  0.997913  0.987241\n",
       "y      0.995587 -0.023261  0.193248  0.997913  1.000000  0.986802\n",
       "z      0.992984  0.105538  0.156810  0.987241  0.986802  1.000000"
      ]
     },
     "execution_count": 56,
     "metadata": {},
     "output_type": "execute_result"
    }
   ],
   "source": [
    "X_train.corr(method=\"spearman\")"
   ]
  },
  {
   "cell_type": "markdown",
   "metadata": {},
   "source": [
    "### Permutation Feature importance"
   ]
  },
  {
   "cell_type": "code",
   "execution_count": 65,
   "metadata": {},
   "outputs": [],
   "source": [
    "from sklearn.inspection import permutation_importance\n",
    "\n",
    "\n",
    "X_test_transformed = grid.best_estimator_[0].transform(X_test)"
   ]
  },
  {
   "cell_type": "code",
   "execution_count": 67,
   "metadata": {},
   "outputs": [],
   "source": [
    "perm_imp = permutation_importance(grid.best_estimator_[-1],\n",
    "                                  X_test_transformed,\n",
    "                                  y_test,\n",
    "                                  scoring =\"neg_mean_squared_error\",\n",
    "                                  n_repeats=20,\n",
    "                                  random_state=42)"
   ]
  },
  {
   "cell_type": "code",
   "execution_count": 68,
   "metadata": {},
   "outputs": [
    {
     "data": {
      "text/plain": [
       "array([-5.76702084e+02, -1.52600886e+02,  2.54654778e+04, -9.03821739e+02,\n",
       "       -5.64315811e+02,  1.41283165e+05,  6.61686798e+04,  5.79097117e+04,\n",
       "        1.14117860e+05,  2.52676340e+05,  4.61162808e+05,  6.28502837e+05,\n",
       "        6.39323170e+05,  1.61957563e+04,  1.78214713e+06,  3.11965275e+06,\n",
       "        2.55243929e+05,  5.93822638e+05,  1.81455178e+04,  8.12237747e+04,\n",
       "        2.49632002e+07,  1.35159297e+04,  2.08164664e+03,  1.78300658e+06,\n",
       "        4.69768601e+06,  2.68247776e+05])"
      ]
     },
     "execution_count": 68,
     "metadata": {},
     "output_type": "execute_result"
    }
   ],
   "source": [
    "perm_imp['importances_mean']"
   ]
  },
  {
   "cell_type": "code",
   "execution_count": 70,
   "metadata": {},
   "outputs": [],
   "source": [
    "df_importance = pd.DataFrame(perm_imp['importances_mean'], columns= [\"importance\"])\n",
    "df_importance[\"features\"] = feature_labels\n",
    "df_importance.sort_values(\"importance\", ascending=False,inplace=True)"
   ]
  },
  {
   "cell_type": "code",
   "execution_count": 71,
   "metadata": {},
   "outputs": [
    {
     "data": {
      "text/plain": [
       "<AxesSubplot:xlabel='importance', ylabel='features'>"
      ]
     },
     "execution_count": 71,
     "metadata": {},
     "output_type": "execute_result"
    },
    {
     "data": {
      "image/png": "[encoded data removed]",
      "text/plain": [
       "<Figure size 432x288 with 1 Axes>"
      ]
     },
     "metadata": {
      "needs_background": "light"
     },
     "output_type": "display_data"
    }
   ],
   "source": [
    "sns.barplot(x = \"importance\", y= \"features\", data = df_importance)"
   ]
  },
  {
   "cell_type": "code",
   "execution_count": null,
   "metadata": {},
   "outputs": [],
   "source": []
  }
 ],
 "metadata": {
  "kernelspec": {
   "display_name": "Python 3 (ipykernel)",
   "language": "python",
   "name": "python3"
  },
  "language_info": {
   "codemirror_mode": {
    "name": "ipython",
    "version": 3
   },
   "file_extension": ".py",
   "mimetype": "text/x-python",
   "name": "python",
   "nbconvert_exporter": "python",
   "pygments_lexer": "ipython3",
   "version": "3.11.4"
  }
 },
 "nbformat": 4,
 "nbformat_minor": 2
}
