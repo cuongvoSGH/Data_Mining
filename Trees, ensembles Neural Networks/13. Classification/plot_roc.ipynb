{
 "cells": [
  {
   "cell_type": "code",
   "execution_count": 1,
   "metadata": {},
   "outputs": [],
   "source": [
    "import sys\n",
    "sys.path.insert(0, \"../data\")"
   ]
  },
  {
   "cell_type": "code",
   "execution_count": null,
   "metadata": {},
   "outputs": [],
   "source": [
    "def plot_roc(y_test, prob, model_name = \"\"):\n",
    "    \n",
    "    from sklearn.metrics import roc_curve, roc_auc_score\n",
    "    import matplotlib.pyplot as plt\n",
    "    \n",
    "    fpr, recall, tresh = roc_curve(y_test, prob)\n",
    "    auc = roc_auc_score(y_test, prob)\n",
    "    \n",
    "    plt.plot(fpr, recall, label = \"{} AUC = {}\".format(model_name, auc.round(2)))\n",
    "    plt.plot([0,1], [0,1], 'r--')\n",
    "    plt.xlabel(\"FPR\")\n",
    "    plt.ylabel(\"Recall\")\n",
    "    plt.title(\"ROC Curve\")\n",
    "    plt.legend()"
   ]
  }
 ],
 "metadata": {
  "kernelspec": {
   "display_name": "Python 3 (ipykernel)",
   "language": "python",
   "name": "python3"
  },
  "language_info": {
   "codemirror_mode": {
    "name": "ipython",
    "version": 3
   },
   "file_extension": ".py",
   "mimetype": "text/x-python",
   "name": "python",
   "nbconvert_exporter": "python",
   "pygments_lexer": "ipython3",
   "version": "3.9.13"
  }
 },
 "nbformat": 4,
 "nbformat_minor": 2
}
